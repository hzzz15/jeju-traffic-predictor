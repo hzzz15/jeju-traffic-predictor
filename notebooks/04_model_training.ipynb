{
 "cells": [
  {
   "cell_type": "code",
   "execution_count": null,
   "metadata": {},
   "outputs": [],
   "source": [
    "import joblib\n",
    "import pandas as pd\n",
    "\n",
    "X_train = joblib.load(\"../output/X_train.pkl\")\n",
    "y_train = joblib.load(\"../output/y_train.pkl\")\n",
    "X_val = joblib.load(\"../output/X_val.pkl\")\n",
    "y_val = joblib.load(\"../output/y_val.pkl\")"
   ]
  },
  {
   "cell_type": "code",
   "execution_count": null,
   "metadata": {},
   "outputs": [],
   "source": [
    "from sklearn.preprocessing import LabelEncoder\n",
    "\n",
    "# base_date 제거\n",
    "for df in [X_train, X_val]:\n",
    "    if 'base_date' in df.columns:\n",
    "        df.drop(columns=['base_date'], inplace=True)\n",
    "\n",
    "# object 컬럼 → Label Encoding\n",
    "obj_cols = X_train.select_dtypes(include=['object']).columns\n",
    "\n",
    "for col in obj_cols:\n",
    "    le = LabelEncoder()\n",
    "    X_train[col] = le.fit_transform(X_train[col])\n",
    "    X_val[col] = le.transform(X_val[col])\n"
   ]
  },
  {
   "cell_type": "code",
   "execution_count": null,
   "metadata": {},
   "outputs": [],
   "source": [
    "# XGBoost\n",
    "from xgboost import XGBRegressor\n",
    "from sklearn.metrics import mean_absolute_error\n",
    "\n",
    "xgb = XGBRegressor(n_estimators=500, learning_rate=0.1, max_depth=10, random_state=42)\n",
    "xgb.fit(X_train, y_train)\n",
    "xgb_preds = xgb.predict(X_val)\n",
    "mae_xgb = mean_absolute_error(y_val, xgb_preds)\n",
    "print(\" XGBoost MAE:\", round(mae_xgb, 4))"
   ]
  },
  {
   "cell_type": "code",
   "execution_count": null,
   "metadata": {},
   "outputs": [],
   "source": [
    "# LightGBM\n",
    "from lightgbm import LGBMRegressor\n",
    "\n",
    "lgbm = LGBMRegressor(n_estimators=500, learning_rate=0.1, max_depth=10, random_state=42)\n",
    "lgbm.fit(X_train, y_train)\n",
    "lgbm_preds = lgbm.predict(X_val)\n",
    "mae_lgbm = mean_absolute_error(y_val, lgbm_preds)\n",
    "print(\"LightGBM MAE:\", round(mae_lgbm, 4))"
   ]
  },
  {
   "cell_type": "code",
   "execution_count": null,
   "metadata": {},
   "outputs": [],
   "source": [
    "# Random Forest & ExtraTrees\n",
    "from sklearn.ensemble import RandomForestRegressor, ExtraTreesRegressor\n",
    "from sklearn.metrics import mean_absolute_error\n",
    "\n",
    "# RandomForest\n",
    "rf = RandomForestRegressor(\n",
    "    n_estimators=40,          \n",
    "    min_samples_leaf=10,       \n",
    "    min_samples_split=10,      \n",
    "    n_jobs=-1,               \n",
    "    random_state=42,\n",
    "    verbose=1                 \n",
    ")\n",
    "\n",
    "# ExtraTrees\n",
    "et = ExtraTreesRegressor(\n",
    "    n_estimators=40,\n",
    "    min_samples_leaf=10,\n",
    "    min_samples_split=10,\n",
    "    n_jobs=-1,\n",
    "    random_state=42,\n",
    "    verbose=1\n",
    ")\n",
    "\n",
    "rf.fit(X_train, y_train)\n",
    "et.fit(X_train, y_train)\n",
    "\n",
    "rf_preds = rf.predict(X_val)\n",
    "et_preds = et.predict(X_val)\n",
    "\n",
    "mae_rf = mean_absolute_error(y_val, rf_preds)\n",
    "mae_et = mean_absolute_error(y_val, et_preds)\n",
    "\n",
    "print(\"RandomForest MAE:\", round(mae_rf, 4))\n",
    "print(\"ExtraTrees MAE:\", round(mae_et, 4))"
   ]
  },
  {
   "cell_type": "code",
   "execution_count": null,
   "metadata": {},
   "outputs": [],
   "source": [
    "# 결과 비교\n",
    "print(f\"XGBoost MAE:     {mae_xgb:.4f}\")\n",
    "print(f\"LightGBM MAE:    {mae_lgbm:.4f}\")\n",
    "print(f\"RandomForest MAE:{mae_rf:.4f}\")\n",
    "print(f\"ExtraTrees MAE:  {mae_et:.4f}\")"
   ]
  },
  {
   "cell_type": "code",
   "execution_count": null,
   "metadata": {},
   "outputs": [],
   "source": [
    "import matplotlib.pyplot as plt\n",
    "import seaborn as sns\n",
    "\n",
    "mae_scores = {\n",
    "    \"XGBoost\": mae_xgb,\n",
    "    \"LightGBM\": mae_lgbm,\n",
    "    \"RandomForest\": mae_rf,\n",
    "    \"ExtraTrees\": mae_et,\n",
    "}\n",
    "\n",
    "sns.set_style(\"whitegrid\")\n",
    "plt.rcParams['axes.unicode_minus'] = False\n",
    "plt.rcParams[\"font.family\"] = \"AppleGothic\"  \n",
    "\n",
    "plt.figure(figsize=(8, 5))\n",
    "plt.bar(mae_scores.keys(), mae_scores.values(), color='skyblue')\n",
    "plt.title(\"모델별 MAE 비교\")\n",
    "plt.ylabel(\"Mean Absolute Error\")\n",
    "plt.ylim(0, max(mae_scores.values()) + 1)\n",
    "plt.xticks(rotation=15)\n",
    "plt.show()"
   ]
  },
  {
   "cell_type": "code",
   "execution_count": null,
   "metadata": {},
   "outputs": [],
   "source": [
    "import pandas as pd\n",
    "import joblib\n",
    "\n",
    "# 평균값 예측 baseline\n",
    "mean_target = y_train.mean()\n",
    "\n",
    "test_ids = pd.read_csv(\"../data/test.csv\")[\"id\"]\n",
    "preds_baseline = [mean_target] * len(test_ids)\n",
    "\n",
    "# DataFrame으로 저장\n",
    "baseline_df = pd.DataFrame({\n",
    "    \"id\": test_ids,\n",
    "    \"target\": preds_baseline\n",
    "})\n",
    "\n",
    "baseline_df.to_csv(\"../output/final_prediction_baseline.csv\", index=False)\n",
    "print(\"baseline 예측 결과 저장 완료\")\n"
   ]
  },
  {
   "cell_type": "code",
   "execution_count": null,
   "metadata": {},
   "outputs": [],
   "source": [
    "best_model = rf"
   ]
  },
  {
   "cell_type": "code",
   "execution_count": null,
   "metadata": {},
   "outputs": [],
   "source": [
    "import joblib\n",
    "import os\n",
    "\n",
    "# 학습에 사용한 feature column 목록 저장\n",
    "feature_columns = X_train.columns.tolist()\n",
    "\n",
    "joblib.dump(feature_columns, \"../output/feature_columns.pkl\")"
   ]
  },
  {
   "cell_type": "code",
   "execution_count": null,
   "metadata": {},
   "outputs": [],
   "source": [
    "import joblib\n",
    "\n",
    "joblib.dump(rf, \"../output/rf_model.pkl\")"
   ]
  },
  {
   "cell_type": "code",
   "execution_count": null,
   "metadata": {},
   "outputs": [],
   "source": [
    "import joblib\n",
    "import pandas as pd\n",
    "\n",
    "rf_model = joblib.load(\"../output/rf_model.pkl\")\n",
    "test_X = joblib.load(\"../output/test_X.pkl\")\n",
    "\n",
    "# 예측 시 불필요한 컬럼 제거\n",
    "test_X = test_X.drop(columns=[\"base_date\"], errors=\"ignore\")\n",
    "\n",
    "# 범주형 컬럼 중 숫자 아닌 것 자동 인코딩 (LabelEncoder 없이)\n",
    "for col in test_X.select_dtypes(include=[\"object\"]).columns:\n",
    "    test_X[col] = pd.factorize(test_X[col])[0]\n",
    "\n",
    "preds = rf_model.predict(test_X)\n",
    "\n",
    "# 예측 결과 저장 (id 붙여서)\n",
    "test_ids = pd.read_csv(\"../data/test.csv\")[\"id\"]\n",
    "final_df = pd.DataFrame({\n",
    "    \"id\": test_ids,\n",
    "    \"target\": preds\n",
    "})\n",
    "\n",
    "final_df.to_csv(\"../output/final_prediction_rf.csv\", index=False)\n",
    "print(\"최종 예측 결과 저장 완료!\")"
   ]
  }
 ],
 "metadata": {
  "kernelspec": {
   "display_name": "Python 3",
   "language": "python",
   "name": "python3"
  },
  "language_info": {
   "codemirror_mode": {
    "name": "ipython",
    "version": 3
   },
   "file_extension": ".py",
   "mimetype": "text/x-python",
   "name": "python",
   "nbconvert_exporter": "python",
   "pygments_lexer": "ipython3",
   "version": "3.13.3"
  }
 },
 "nbformat": 4,
 "nbformat_minor": 2
}

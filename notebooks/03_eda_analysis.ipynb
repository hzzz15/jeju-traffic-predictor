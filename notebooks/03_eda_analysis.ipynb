{
 "cells": [
  {
   "cell_type": "code",
   "execution_count": null,
   "metadata": {},
   "outputs": [],
   "source": [
    "# 라이브러리 불러오기\n",
    "import pandas as pd\n",
    "import numpy as np\n",
    "import matplotlib.pyplot as plt\n",
    "import seaborn as sns\n",
    "import joblib\n",
    "import os\n",
    "\n",
    "# 한글 폰트\n",
    "sns.set_style(\"whitegrid\")\n",
    "plt.rcParams['axes.unicode_minus'] = False\n",
    "plt.rcParams[\"font.family\"] = \"AppleGothic\"  \n",
    "\n",
    "# 전처리 된 데이터 불러오기\n",
    "X_train = joblib.load('../output/X_train.pkl')\n",
    "y_train = joblib.load('../output/y_train.pkl')\n",
    "\n",
    "train = X_train.copy()\n",
    "train['target'] = y_train\n",
    "print(train.columns)\n"
   ]
  },
  {
   "cell_type": "code",
   "execution_count": null,
   "metadata": {},
   "outputs": [],
   "source": [
    "# 상관관계 분석 히트맵\n",
    "numeric_cols = train.select_dtypes(include=[\"number\"])\n",
    "\n",
    "plt.figure(figsize=(12, 8))\n",
    "sns.heatmap(numeric_cols.corr(), annot=True, fmt=\".2f\", cmap=\"coolwarm\")\n",
    "plt.title(\"수치형 변수 간 상관관계\")\n",
    "plt.show()"
   ]
  },
  {
   "cell_type": "code",
   "execution_count": null,
   "metadata": {},
   "outputs": [],
   "source": [
    "# road_rating별 평균 속도\n",
    "plt.figure(figsize=(8, 5))\n",
    "sns.boxplot(data=train, x=\"road_rating\", y=\"target\")\n",
    "plt.title(\"도로 등급별 평균 속도 분포\")\n",
    "plt.show()"
   ]
  },
  {
   "cell_type": "code",
   "execution_count": null,
   "metadata": {},
   "outputs": [],
   "source": [
    "# lane_count별 평균 속도\n",
    "plt.figure(figsize=(8, 5))\n",
    "sns.boxplot(data=train, x=\"lane_count\", y=\"target\")\n",
    "plt.title(\"차로 수(lane_count)별 평균 속도 분포\")\n",
    "plt.show()"
   ]
  },
  {
   "cell_type": "code",
   "execution_count": null,
   "metadata": {},
   "outputs": [],
   "source": [
    "# base_hour vs 평균 속도 시계열 그래프 (시간대별 분석)\n",
    "if \"base_hour\" in train.columns:\n",
    "    plt.figure(figsize=(10, 5))\n",
    "    sns.lineplot(data=train, x=\"base_hour\", y=\"target\", ci=None)\n",
    "    plt.title(\"시간대(base_hour)별 평균 속도\")\n",
    "    plt.xlabel(\"시간대\")\n",
    "    plt.ylabel(\"평균 속도\")\n",
    "    plt.show()"
   ]
  },
  {
   "cell_type": "code",
   "execution_count": null,
   "metadata": {},
   "outputs": [],
   "source": [
    "import matplotlib.pyplot as plt\n",
    "import seaborn as sns\n",
    "\n",
    "# season 문자열 매핑\n",
    "season_map = {0: 'spring', 1: 'summer', 2: 'fall', 3: 'winter'}\n",
    "X_train['season_label'] = X_train['season'].map(season_map)"
   ]
  },
  {
   "cell_type": "code",
   "execution_count": null,
   "metadata": {},
   "outputs": [],
   "source": [
    "# 계절별 평균 속도 분포\n",
    "plt.figure(figsize=(8, 5))\n",
    "sns.boxplot(data=X_train, x=\"season_label\", y=y_train)\n",
    "plt.title(\"계절별 평균 속도 분포\")\n",
    "plt.show()"
   ]
  },
  {
   "cell_type": "code",
   "execution_count": null,
   "metadata": {},
   "outputs": [],
   "source": [
    "import pandas as pd\n",
    "\n",
    "plot_df = X_train.copy()\n",
    "plot_df['target'] = y_train.values\n",
    "\n",
    "# 시각화용 시간대 매핑\n",
    "plot_df['time_type_label'] = plot_df['time_type'].map({0: 'commute', 1: 'late_night', 2: 'normal'})\n",
    "\n",
    "# 결측치\n",
    "print(\"Null values:\", plot_df[['time_type_label', 'target']].isnull().sum())"
   ]
  },
  {
   "cell_type": "code",
   "execution_count": null,
   "metadata": {},
   "outputs": [],
   "source": [
    "# 시간대 구간화 (출퇴근/심야/일반)\n",
    "plot_df['time_type'] = plot_df['base_hour'].apply(lambda x:\n",
    "    'commute' if x in [7,8,17,18] else (\n",
    "    'late_night' if x in [0,1,2,3,4,5] else 'normal')\n",
    ")\n",
    "\n",
    "# 시각화용 라벨\n",
    "plot_df['time_type_label'] = plot_df['time_type'].map({\n",
    "    'commute': '출퇴근시간',\n",
    "    'late_night': '심야시간',\n",
    "    'normal': '일반시간'\n",
    "})"
   ]
  },
  {
   "cell_type": "code",
   "execution_count": null,
   "metadata": {},
   "outputs": [],
   "source": [
    "# 시간대별 평균 속도 분포\n",
    "available_order = plot_df['time_type_label'].dropna().unique().tolist()\n",
    "\n",
    "plt.figure(figsize=(8, 5))\n",
    "sns.boxplot(data=plot_df, x=\"time_type_label\", y=\"target\", order=available_order)\n",
    "plt.title(\"시간대별 평균 속도 분포\")\n",
    "plt.show()"
   ]
  }
 ],
 "metadata": {
  "kernelspec": {
   "display_name": "Python 3",
   "language": "python",
   "name": "python3"
  },
  "language_info": {
   "codemirror_mode": {
    "name": "ipython",
    "version": 3
   },
   "file_extension": ".py",
   "mimetype": "text/x-python",
   "name": "python",
   "nbconvert_exporter": "python",
   "pygments_lexer": "ipython3",
   "version": "3.13.3"
  }
 },
 "nbformat": 4,
 "nbformat_minor": 2
}

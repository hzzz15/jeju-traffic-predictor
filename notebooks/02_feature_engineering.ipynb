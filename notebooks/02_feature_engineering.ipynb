{
 "cells": [
  {
   "cell_type": "code",
   "execution_count": null,
   "metadata": {},
   "outputs": [],
   "source": [
    "# 날짜 파생 변수 생성\n",
    "import pandas as pd\n",
    "\n",
    "# 데이터 로드\n",
    "train = pd.read_csv('../data/train.csv')\n",
    "test = pd.read_csv('../data/test.csv')\n",
    "\n",
    "# 날짜 컬럼을 datetime 형식으로 변환\n",
    "train['base_date'] = pd.to_datetime(train['base_date'].astype(str))\n",
    "test['base_date'] = pd.to_datetime(test['base_date'].astype(str))\n",
    "\n",
    "# 날짜 기반 파생 변수 생성\n",
    "for df in [train, test]:\n",
    "    df['year'] = df['base_date'].dt.year\n",
    "    df['month'] = df['base_date'].dt.month\n",
    "    df['day'] = df['base_date'].dt.day\n",
    "    df['weekday'] = df['base_date'].dt.weekday  # 0=월요일, 6=일요일\n",
    "    df['is_weekend'] = df['weekday'].apply(lambda x: 1 if x >= 5 else 0)\n",
    "\n",
    "    # season (봄: 3~5, 여름: 6~8, 가을: 9~11, 겨울: 12~2)\n",
    "    df['season'] = df['month'].map({\n",
    "        3: 'spring', 4: 'spring', 5: 'spring',\n",
    "        6: 'summer', 7: 'summer', 8: 'summer',\n",
    "        9: 'fall', 10: 'fall', 11: 'fall',\n",
    "        12: 'winter', 1: 'winter', 2: 'winter'\n",
    "    })\n",
    "\n",
    "    # 시간대 구간화 (출퇴근/심야/일반)\n",
    "    df['time_type'] = df['base_hour'].apply(lambda x:\n",
    "        'commute' if x in [7,8,17,18] else (\n",
    "        'late_night' if x in [0,1,2,3,4,5] else 'normal')\n",
    "    )\n"
   ]
  },
  {
   "cell_type": "code",
   "execution_count": null,
   "metadata": {},
   "outputs": [],
   "source": [
    "# 도로 및 위치 기반 파생 변수 처리\n",
    "print(train.groupby('maximum_speed_limit')['target'].mean())\n",
    "\n",
    "# 차로 수가 많을수록 빠를까..? --> 시각화\n",
    "print(train.groupby('lane_count')['target'].mean())\n",
    "\n",
    "# 도로 등급 (103,106,107) 정제\n",
    "print(train['road_rating'].value_counts())"
   ]
  },
  {
   "cell_type": "code",
   "execution_count": null,
   "metadata": {},
   "outputs": [],
   "source": [
    "# 불필요한 변수 제거\n",
    "# vehicle_restricted, height_restricted: 모든 값이 0 --> 제거\n",
    "drop_cols = ['vehicle_restricted', 'height_restricted']\n",
    "\n",
    "# multi_linked: 거의 전부 0 --> 제거\n",
    "drop_cols += ['multi_linked']\n",
    "\n",
    "# connect_code: 불균형, 파생 정보 약함 --> 제거\n",
    "drop_cols += ['connect_code']\n",
    "\n",
    "train = train.drop(columns=drop_cols)\n",
    "test = test.drop(columns=drop_cols)"
   ]
  },
  {
   "cell_type": "code",
   "execution_count": null,
   "metadata": {},
   "outputs": [],
   "source": [
    "# 거리 계산: 시작점과 도착점 간 haversine 거리\n",
    "import numpy as np\n",
    "\n",
    "def haversine(lat1, lon1, lat2, lon2):\n",
    "    R = 6371  # Earth radius (km)\n",
    "    lat1, lon1, lat2, lon2 = map(np.radians, [lat1, lon1, lat2, lon2])\n",
    "    dlat = lat2 - lat1\n",
    "    dlon = lon2 - lon1\n",
    "\n",
    "    a = np.sin(dlat/2)**2 + np.cos(lat1) * np.cos(lat2) * np.sin(dlon/2)**2\n",
    "    return R * 2 * np.arcsin(np.sqrt(a))\n",
    "\n",
    "train['distance'] = haversine(train['start_latitude'], train['start_longitude'],\n",
    "                              train['end_latitude'], train['end_longitude'])\n",
    "\n",
    "test['distance'] = haversine(test['start_latitude'], test['start_longitude'],\n",
    "                             test['end_latitude'], test['end_longitude'])\n"
   ]
  },
  {
   "cell_type": "code",
   "execution_count": null,
   "metadata": {},
   "outputs": [],
   "source": [
    "# start_turn_restricted / end_turn_restricted: 0,1 변환\n",
    "turn_map = {'없음': 0, '있음': 1}\n",
    "train['start_turn_restricted'] = train['start_turn_restricted'].map(turn_map)\n",
    "test['start_turn_restricted'] = test['start_turn_restricted'].map(turn_map)\n",
    "train['end_turn_restricted'] = train['end_turn_restricted'].map(turn_map)\n",
    "test['end_turn_restricted'] = test['end_turn_restricted'].map(turn_map)"
   ]
  },
  {
   "cell_type": "code",
   "execution_count": null,
   "metadata": {},
   "outputs": [],
   "source": [
    "# road_name 컬럼 정제\n",
    "# 1. 결측치 확인 및 대체\n",
    "# road_name이 '-'인 경우 확인\n",
    "print(\"train 결측 road_name 수:\", (train['road_name'] == '-').sum())\n",
    "print(\"test 결측 road_name 수:\", (test['road_name'] == '-').sum())"
   ]
  },
  {
   "cell_type": "code",
   "execution_count": null,
   "metadata": {},
   "outputs": [],
   "source": [
    "# 남은 '-' 값을 '기타'로 치환\n",
    "train['road_name'] = train['road_name'].replace('-', '기타')\n",
    "test['road_name'] = test['road_name'].replace('-', '기타')\n"
   ]
  },
  {
   "cell_type": "code",
   "execution_count": null,
   "metadata": {},
   "outputs": [],
   "source": [
    "# 2. road_name 분포 확인\n",
    "# 상위 도로명 확인\n",
    "print(train['road_name'].value_counts().head())"
   ]
  },
  {
   "cell_type": "code",
   "execution_count": null,
   "metadata": {},
   "outputs": [],
   "source": [
    "# 3. Label Encoding\n",
    "from sklearn.preprocessing import LabelEncoder\n",
    "\n",
    "le_road = LabelEncoder()\n",
    "le_road.fit(train['road_name'])\n",
    "\n",
    "train['road_name'] = le_road.transform(train['road_name'])\n",
    "\n",
    "for label in np.unique(test['road_name']):\n",
    "    if label not in le_road.classes_:\n",
    "        le_road.classes_ = np.append(le_road.classes_, label)\n",
    "\n",
    "test['road_name'] = le_road.transform(test['road_name'])"
   ]
  },
  {
   "cell_type": "code",
   "execution_count": null,
   "metadata": {},
   "outputs": [],
   "source": [
    "# start_node_name, end_node_name 정제\n",
    "# 1. 유니크 값 개수 확인\n",
    "print(\"start_node_name 종류 수:\", train['start_node_name'].nunique())\n",
    "print(\"end_node_name 종류 수:\", train['end_node_name'].nunique())"
   ]
  },
  {
   "cell_type": "code",
   "execution_count": null,
   "metadata": {},
   "outputs": [],
   "source": [
    "# 2. Top-N만 보존, 나머지는 '기타'로 묶기\n",
    "# 상위 20개 노드만 유지 나머지는 '기타'로\n",
    "top_n = 20\n",
    "\n",
    "top_start = train['start_node_name'].value_counts().nlargest(top_n).index\n",
    "top_end = train['end_node_name'].value_counts().nlargest(top_n).index\n",
    "\n",
    "train['start_node_name'] = train['start_node_name'].apply(lambda x: x if x in top_start else '기타')\n",
    "test['start_node_name'] = test['start_node_name'].apply(lambda x: x if x in top_start else '기타')\n",
    "\n",
    "train['end_node_name'] = train['end_node_name'].apply(lambda x: x if x in top_end else '기타')\n",
    "test['end_node_name'] = test['end_node_name'].apply(lambda x: x if x in top_end else '기타')\n"
   ]
  },
  {
   "cell_type": "code",
   "execution_count": null,
   "metadata": {},
   "outputs": [],
   "source": [
    "# 3. Label Encoding 적용\n",
    "le_start = LabelEncoder()\n",
    "le_end = LabelEncoder()\n",
    "\n",
    "train['start_node_name'] = le_start.fit_transform(train['start_node_name'])\n",
    "test['start_node_name'] = le_start.transform(test['start_node_name'])\n",
    "\n",
    "train['end_node_name'] = le_end.fit_transform(train['end_node_name'])\n",
    "test['end_node_name'] = le_end.transform(test['end_node_name'])\n"
   ]
  },
  {
   "cell_type": "code",
   "execution_count": null,
   "metadata": {},
   "outputs": [],
   "source": [
    "# adjacent_august (7~9월이면 Y, 아니면 N)\n",
    "train['adjacent_august'] = train['month'].apply(lambda x: 'Y' if x in [7,8,9] else 'N')\n",
    "test['adjacent_august'] = test['month'].apply(lambda x: 'Y' if x in [7,8,9] else 'N')\n",
    "\n",
    "# 시간대 worktime(08~20), resttime(나머지)\n",
    "train['시간대'] = train['base_hour'].apply(lambda x: 'worktime' if 8 <= x <= 20 else 'resttime')\n",
    "test['시간대'] = test['base_hour'].apply(lambda x: 'worktime' if 8 <= x <= 20 else 'resttime')\n",
    "\n",
    "# 계절 봄(3~5), 여름(6~8), 가을(9~11), 겨울(12~2)\n",
    "def get_season(month):\n",
    "    if month in [3,4,5]:\n",
    "        return '봄'\n",
    "    elif month in [6,7,8]:\n",
    "        return '여름'\n",
    "    elif month in [9,10,11]:\n",
    "        return '가을'\n",
    "    else:\n",
    "        return '겨울'\n",
    "\n",
    "train['season'] = train['month'].apply(get_season)\n",
    "test['season'] = test['month'].apply(get_season)"
   ]
  },
  {
   "cell_type": "code",
   "execution_count": null,
   "metadata": {},
   "outputs": [],
   "source": [
    "from sklearn.preprocessing import LabelEncoder\n",
    "\n",
    "# 이미 처리한 두 컬럼 제외\n",
    "categorical_features = [\n",
    "    'road_name', 'road_rating', 'maximum_speed_limit', 'weight_restricted',\n",
    "    'road_type', 'start_turn_restricted', 'end_turn_restricted',\n",
    "    'adjacent_august', '시간대', 'season'\n",
    "]\n",
    "\n",
    "for col in categorical_features:\n",
    "    le = LabelEncoder()\n",
    "    le.fit(train[col])\n",
    "\n",
    "    # 테스트셋에 없는 클래스가 있는 경우 대비\n",
    "    le_classes = list(le.classes_)\n",
    "    for label in test[col].unique():\n",
    "        if label not in le.classes_:\n",
    "            le_classes.append(label)\n",
    "    le.classes_ = np.array(le_classes)\n",
    "\n",
    "    train[col] = le.transform(train[col])\n",
    "    test[col] = le.transform(test[col])\n"
   ]
  },
  {
   "cell_type": "code",
   "execution_count": null,
   "metadata": {},
   "outputs": [],
   "source": [
    "# 학습/검증 데이터 분리\n",
    "from sklearn.model_selection import train_test_split\n",
    "\n",
    "# target 분리\n",
    "y = train['target']\n",
    "X = train.drop(columns=['target', 'id'])  # id는 필요 없는 식별자 컬럼\n",
    "test_X = test.drop(columns=['id'])\n",
    "\n",
    "# train/val 분리\n",
    "X_train, X_val, y_train, y_val = train_test_split(\n",
    "    X, y, test_size=0.2, random_state=42\n",
    ")\n",
    "\n",
    "print(\"훈련셋 크기:\", X_train.shape)\n",
    "print(\"검증셋 크기:\", X_val.shape)"
   ]
  },
  {
   "cell_type": "code",
   "execution_count": null,
   "metadata": {},
   "outputs": [],
   "source": [
    "import os\n",
    "import joblib\n",
    "\n",
    "os.makedirs('../output', exist_ok=True)\n",
    "\n",
    "# 파일 저장\n",
    "joblib.dump(X_train, '../output/X_train.pkl')\n",
    "joblib.dump(y_train, '../output/y_train.pkl')\n",
    "joblib.dump(X_val, '../output/X_val.pkl')\n",
    "joblib.dump(y_val, '../output/y_val.pkl')\n",
    "joblib.dump(test_X, '../output/test_X.pkl')"
   ]
  },
  {
   "cell_type": "code",
   "execution_count": null,
   "metadata": {},
   "outputs": [],
   "source": [
    "import joblib\n",
    "\n",
    "# 도로명 인코더 저장\n",
    "joblib.dump(le_road, '../output/le_road.pkl')\n",
    "\n",
    "# 출발/도착 노드명 인코더 저장\n",
    "joblib.dump(le_start, '../output/le_start.pkl')\n",
    "joblib.dump(le_end, '../output/le_end.pkl')\n",
    "\n",
    "# 시간대 인코더\n",
    "le_time = LabelEncoder()\n",
    "le_time.fit(train['시간대'])\n",
    "joblib.dump(le_time, '../output/le_시간대.pkl')\n",
    "\n",
    "# 계절 인코더\n",
    "le_season = LabelEncoder()\n",
    "le_season.fit(train['season'])\n",
    "joblib.dump(le_season, '../output/le_season.pkl')\n",
    "\n",
    "# adjacent_august 인코더\n",
    "le_august = LabelEncoder()\n",
    "le_august.fit(train['adjacent_august'])\n",
    "joblib.dump(le_august, '../output/le_adjacent_august.pkl')"
   ]
  },
  {
   "cell_type": "code",
   "execution_count": null,
   "metadata": {},
   "outputs": [],
   "source": [
    "import joblib\n",
    "\n",
    "le_road = joblib.load('../output/le_road.pkl')\n",
    "le_time = joblib.load('../output/le_시간대.pkl')\n",
    "le_season = joblib.load('../output/le_season.pkl')\n",
    "le_august = joblib.load('../output/le_adjacent_august.pkl')\n",
    "\n",
    "# 딕셔너리 형태로 묶어서 저장\n",
    "label_encoders = {\n",
    "    \"le_road\": le_road,\n",
    "    \"le_time\": le_time,\n",
    "    \"le_season\": le_season,\n",
    "    \"le_august\": le_august\n",
    "}\n",
    "\n",
    "joblib.dump(label_encoders, '../output/label_encoders.pkl')\n",
    "print(\"label_encoders.pkl 저장\")"
   ]
  }
 ],
 "metadata": {
  "kernelspec": {
   "display_name": "Python 3",
   "language": "python",
   "name": "python3"
  },
  "language_info": {
   "codemirror_mode": {
    "name": "ipython",
    "version": 3
   },
   "file_extension": ".py",
   "mimetype": "text/x-python",
   "name": "python",
   "nbconvert_exporter": "python",
   "pygments_lexer": "ipython3",
   "version": "3.13.3"
  }
 },
 "nbformat": 4,
 "nbformat_minor": 2
}

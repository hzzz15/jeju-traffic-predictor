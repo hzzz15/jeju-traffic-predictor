{
 "cells": [
  {
   "cell_type": "code",
   "execution_count": null,
   "metadata": {},
   "outputs": [],
   "source": [
    "import joblib\n",
    "import pandas as pd\n",
    "import matplotlib.pyplot as plt\n",
    "import seaborn as sns\n",
    "from sklearn.inspection import permutation_importance\n",
    "\n",
    "sns.set_style(\"whitegrid\")\n",
    "plt.rcParams['axes.unicode_minus'] = False\n",
    "plt.rcParams[\"font.family\"] = \"AppleGothic\"  \n",
    "\n",
    "rf_model = joblib.load(\"../output/rf_model.pkl\")\n",
    "X_val = joblib.load(\"../output/X_val.pkl\")\n",
    "y_val = joblib.load(\"../output/y_val.pkl\")"
   ]
  },
  {
   "cell_type": "code",
   "execution_count": null,
   "metadata": {},
   "outputs": [],
   "source": [
    "# 모델 피처 수와 일치하도록 X_val 재정렬\n",
    "expected_features = rf_model.feature_names_in_ \n",
    "X_val = X_val[expected_features]\n",
    "\n",
    "# Feature Importance 시각화\n",
    "importances = rf_model.feature_importances_\n",
    "features = X_val.columns\n",
    "\n",
    "feat_df = pd.DataFrame({\n",
    "    'Feature': features,\n",
    "    'Importance': importances\n",
    "}).sort_values(by='Importance', ascending=False)\n",
    "\n",
    "plt.figure(figsize=(10, 6))\n",
    "sns.barplot(x='Importance', y='Feature', data=feat_df)\n",
    "plt.title(\"Random Forest Feature Importance\")\n",
    "plt.tight_layout()\n",
    "plt.show()"
   ]
  },
  {
   "cell_type": "code",
   "execution_count": null,
   "metadata": {},
   "outputs": [],
   "source": [
    "from sklearn.preprocessing import LabelEncoder\n",
    "\n",
    "# object 타입 컬럼들 확인\n",
    "cat_cols = X_val.select_dtypes(include='object').columns\n",
    "print(\"인코딩할 범주형 변수:\", cat_cols)\n",
    "\n",
    "# 각 컬럼에 대해 LabelEncoder 적용\n",
    "label_encoders = {}\n",
    "\n",
    "for col in cat_cols:\n",
    "    le = LabelEncoder()\n",
    "    X_val[col] = le.fit_transform(X_val[col])\n",
    "    label_encoders[col] = le "
   ]
  },
  {
   "cell_type": "code",
   "execution_count": null,
   "metadata": {},
   "outputs": [],
   "source": [
    "import joblib\n",
    "joblib.dump(label_encoders, \"../output/label_encoders.pkl\")"
   ]
  },
  {
   "cell_type": "code",
   "execution_count": null,
   "metadata": {},
   "outputs": [],
   "source": [
    "from sklearn.inspection import permutation_importance\n",
    "import matplotlib.pyplot as plt\n",
    "import seaborn as sns\n",
    "import pandas as pd\n",
    "\n",
    "perm = permutation_importance(rf_model, X_val, y_val, n_repeats=10, random_state=42)\n",
    "\n",
    "perm_df = pd.DataFrame({\n",
    "    \"Feature\": X_val.columns,\n",
    "    \"Importance\": perm.importances_mean\n",
    "}).sort_values(by=\"Importance\", ascending=False)\n",
    "\n",
    "plt.figure(figsize=(10, 6))\n",
    "sns.barplot(x=\"Importance\", y=\"Feature\", data=perm_df)\n",
    "plt.title(\"Permutation Importance\")\n",
    "plt.tight_layout()\n",
    "plt.show()"
   ]
  },
  {
   "cell_type": "code",
   "execution_count": null,
   "metadata": {},
   "outputs": [],
   "source": [
    "# shap\n",
    "import shap\n",
    "import joblib\n",
    "import pandas as pd\n",
    "import matplotlib.pyplot as plt\n",
    "import seaborn as sns\n",
    "from sklearn.preprocessing import LabelEncoder\n"
   ]
  },
  {
   "cell_type": "code",
   "execution_count": null,
   "metadata": {},
   "outputs": [],
   "source": [
    "X_val = joblib.load(\"../output/X_val.pkl\")\n",
    "y_val = joblib.load(\"../output/y_val.pkl\")\n",
    "rf_model = joblib.load(\"../output/rf_model.pkl\")"
   ]
  },
  {
   "cell_type": "code",
   "execution_count": null,
   "metadata": {},
   "outputs": [],
   "source": [
    "# Timestamp 등 SHAP이 처리 못하는 컬럼 제거\n",
    "if 'base_date' in X_val.columns:\n",
    "    X_val = X_val.drop(columns=['base_date'])\n",
    "\n",
    "# 범주형 컬럼 확인\n",
    "cat_cols = X_val.select_dtypes(include='object').columns\n",
    "print(\"범주형 변수:\", list(cat_cols))\n",
    "\n",
    "# Label Encoding\n",
    "from sklearn.preprocessing import LabelEncoder\n",
    "for col in cat_cols:\n",
    "    le = LabelEncoder()\n",
    "    X_val[col] = le.fit_transform(X_val[col])"
   ]
  },
  {
   "cell_type": "code",
   "execution_count": null,
   "metadata": {},
   "outputs": [],
   "source": [
    "import shap\n",
    "\n",
    "# 300개\n",
    "sample_X = X_val.sample(n=300, random_state=42)\n",
    "\n",
    "explainer = shap.TreeExplainer(rf_model)\n",
    "shap_values = explainer.shap_values(sample_X)\n",
    "\n",
    "shap.summary_plot(shap_values, sample_X)"
   ]
  }
 ],
 "metadata": {
  "kernelspec": {
   "display_name": "Python 3",
   "language": "python",
   "name": "python3"
  },
  "language_info": {
   "codemirror_mode": {
    "name": "ipython",
    "version": 3
   },
   "file_extension": ".py",
   "mimetype": "text/x-python",
   "name": "python",
   "nbconvert_exporter": "python",
   "pygments_lexer": "ipython3",
   "version": "3.13.3"
  }
 },
 "nbformat": 4,
 "nbformat_minor": 2
}
